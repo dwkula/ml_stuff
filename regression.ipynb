{
 "cells": [
  {
   "cell_type": "code",
   "execution_count": 1,
   "id": "d1c83f94-9d3b-4800-bcea-69f4a927f618",
   "metadata": {},
   "outputs": [],
   "source": [
    "import pandas as pd\n",
    "import quandl, math, datetime\n",
    "import numpy as np\n",
    "from sklearn import preprocessing, model_selection, svm\n",
    "from sklearn.linear_model import LinearRegression\n",
    "import matplotlib.pyplot as plt\n",
    "from matplotlib import style\n",
    "import pickle"
   ]
  },
  {
   "cell_type": "code",
   "execution_count": null,
   "id": "b437cea4-ede0-4220-9209-7c83ccce8cf8",
   "metadata": {},
   "outputs": [],
   "source": [
    "df = quandl.get('WIKI/GOOGL')\n",
    "df2 = quandl.get('WIKI/GOOGL')"
   ]
  },
  {
   "cell_type": "code",
   "execution_count": null,
   "id": "a2ea0145-9c37-4af1-ae56-d860dba6a971",
   "metadata": {},
   "outputs": [],
   "source": [
    "df.head()"
   ]
  },
  {
   "cell_type": "markdown",
   "id": "3a1999dc-712c-4ec9-8c2f-93db0fd98f5d",
   "metadata": {},
   "source": [
    "In machine learning the columns are called 'features'. We want meaningfull features especially for linear regression. LR is not super depth so the corellations between features have to be passed by us and base on that it will make predictions."
   ]
  },
  {
   "cell_type": "code",
   "execution_count": null,
   "id": "8baec347-394e-468a-8ff2-8c8ae4fbfca5",
   "metadata": {},
   "outputs": [],
   "source": [
    "df['HL_PCT'] = (df['Adj. High'] - df['Adj. Close']) / df['Adj. Close'] * 100.0\n",
    "df['PCT_change'] = (df['Adj. Close'] - df['Adj. Open']) / df['Adj. Open'] * 100.0"
   ]
  },
  {
   "cell_type": "code",
   "execution_count": null,
   "id": "d4026123-0861-4685-86d6-cc269b7aaeb0",
   "metadata": {},
   "outputs": [],
   "source": [
    "df = df[['Adj. Close', 'HL_PCT', 'PCT_change', 'Adj. Volume']]"
   ]
  },
  {
   "cell_type": "code",
   "execution_count": null,
   "id": "ea01093a-74fd-4114-b040-3dd639233c21",
   "metadata": {},
   "outputs": [],
   "source": [
    "df.head()"
   ]
  },
  {
   "cell_type": "markdown",
   "id": "6929fdab-460b-4161-91b5-b83e0764a8ae",
   "metadata": {},
   "source": [
    "Features are attributes that make up the label and the label is some sort of prediction into the future."
   ]
  },
  {
   "cell_type": "code",
   "execution_count": null,
   "id": "675eb80a-beb3-4551-a22e-37941c8aa9a4",
   "metadata": {},
   "outputs": [],
   "source": [
    "df.isna().sum()"
   ]
  },
  {
   "cell_type": "markdown",
   "id": "f93b898b-94f8-460c-ae6b-d9d803201f38",
   "metadata": {},
   "source": [
    "We do not want missing values and sometimes the best approach to this is to fill them with outliers."
   ]
  },
  {
   "cell_type": "code",
   "execution_count": null,
   "id": "166781bd-39f2-44c9-8dce-b03bc6563125",
   "metadata": {},
   "outputs": [],
   "source": [
    "df.fillna(-9999, inplace=True)"
   ]
  },
  {
   "cell_type": "code",
   "execution_count": null,
   "id": "4b01f2dd-8bda-498c-80af-0e195000c681",
   "metadata": {},
   "outputs": [],
   "source": [
    "forecast_col = 'Adj. Close' # column that we are making predictions on"
   ]
  },
  {
   "cell_type": "code",
   "execution_count": null,
   "id": "9287f208-27b3-4f0c-8876-76f4bc26e8a4",
   "metadata": {
    "tags": []
   },
   "outputs": [],
   "source": [
    "forecast_out = int(math.ceil(0.01 * len(df))) # 1% of days (rows), approx 35 days into the future"
   ]
  },
  {
   "cell_type": "code",
   "execution_count": null,
   "id": "2570abf8-f118-45eb-82c9-b98d6d3fb24e",
   "metadata": {},
   "outputs": [],
   "source": [
    "df.tail(50)"
   ]
  },
  {
   "cell_type": "code",
   "execution_count": null,
   "id": "e7da2cf4-ac92-44e8-bfa3-455d9717cea0",
   "metadata": {},
   "outputs": [],
   "source": [
    "df['label'] = df[forecast_col].shift(-forecast_out)"
   ]
  },
  {
   "cell_type": "code",
   "execution_count": null,
   "id": "01c0524c-9aab-46b3-94f4-b726a266669f",
   "metadata": {},
   "outputs": [],
   "source": [
    "df.tail(50)"
   ]
  },
  {
   "cell_type": "code",
   "execution_count": null,
   "id": "8cb45af9",
   "metadata": {},
   "outputs": [],
   "source": [
    "df.isna().sum()"
   ]
  },
  {
   "cell_type": "markdown",
   "id": "7d10010a-079d-49bc-8e28-878b2f483cdd",
   "metadata": {},
   "source": [
    "Label is like our end goal?"
   ]
  },
  {
   "cell_type": "code",
   "execution_count": null,
   "id": "98f34f3e-27dc-439c-822f-4b50a4b68cfc",
   "metadata": {},
   "outputs": [],
   "source": [
    "df.isna().sum()"
   ]
  },
  {
   "cell_type": "markdown",
   "id": "d1307251-5797-49a9-bdff-b3cc3d6d91df",
   "metadata": {},
   "source": [
    "Features are 'X' and labels are 'y'"
   ]
  },
  {
   "cell_type": "code",
   "execution_count": null,
   "id": "a929f72d-7f04-4fc7-a2bc-1ad27209602b",
   "metadata": {},
   "outputs": [],
   "source": [
    "X = np.array(df.drop(['label'], axis=1))\n",
    "print(X)"
   ]
  },
  {
   "cell_type": "code",
   "execution_count": null,
   "id": "faf54c9d-8eae-48e3-8cd1-ae3e6affdade",
   "metadata": {},
   "outputs": [],
   "source": [
    "X = preprocessing.scale(X) # in that it would subtract the mean of your points first, then divide by the standard deviation\n",
    "print(X[-36])"
   ]
  },
  {
   "cell_type": "code",
   "execution_count": null,
   "id": "8e11ca33-05af-4498-af25-75d0fc9191f7",
   "metadata": {},
   "outputs": [],
   "source": [
    "X_lately = X[-forecast_out:] # last 35 rows, this is the stuff that we are gonna predcit about\n",
    "print(X_lately)"
   ]
  },
  {
   "cell_type": "code",
   "execution_count": null,
   "id": "13a05c48-548b-4d0c-9536-544963c42dbe",
   "metadata": {},
   "outputs": [],
   "source": [
    "X = X[:-forecast_out] # every till last 35 rows\n",
    "print(X)"
   ]
  },
  {
   "cell_type": "code",
   "execution_count": null,
   "id": "1d197b6f-1c35-4e9b-bb18-06bb6c548f43",
   "metadata": {},
   "outputs": [],
   "source": [
    "df.dropna(inplace=True)"
   ]
  },
  {
   "cell_type": "code",
   "execution_count": null,
   "id": "7ab234df-0cd3-4d21-addf-ea1df03def36",
   "metadata": {},
   "outputs": [],
   "source": [
    "y = np.array(df['label'])\n",
    "print(y)"
   ]
  },
  {
   "cell_type": "code",
   "execution_count": null,
   "id": "8e5f0fd1-09d8-4b97-80f0-03c0d03f0cd5",
   "metadata": {},
   "outputs": [],
   "source": [
    "df.describe()"
   ]
  },
  {
   "cell_type": "code",
   "execution_count": null,
   "id": "73e2e57c-df59-4977-a724-8281db39e9e9",
   "metadata": {},
   "outputs": [],
   "source": [
    "X"
   ]
  },
  {
   "cell_type": "code",
   "execution_count": null,
   "id": "7b9ef641-1ad6-4eb1-b91d-d4f3b0ce4762",
   "metadata": {},
   "outputs": [],
   "source": [
    "len(X), len(y) # make sure they are equal len"
   ]
  },
  {
   "cell_type": "code",
   "execution_count": null,
   "id": "c1ffd924-d65e-4ce5-ba0d-7b817993ff58",
   "metadata": {},
   "outputs": [],
   "source": [
    "X_train, X_test, y_train, y_test = model_selection.train_test_split(X, y, test_size=0.2)"
   ]
  },
  {
   "cell_type": "code",
   "execution_count": null,
   "id": "eab08e3b-cb0a-4d6e-a1d5-44f3460993f4",
   "metadata": {},
   "outputs": [],
   "source": [
    "classifier = LinearRegression()\n",
    "classifier.fit(X_train, y_train) # fit for training data"
   ]
  },
  {
   "cell_type": "code",
   "execution_count": null,
   "id": "aa189465-fcad-4334-9deb-57011f9a2b7e",
   "metadata": {},
   "outputs": [],
   "source": [
    "with open('linearregression.pickle', 'wb') as f: # saving classifier with pickle to avoid training it again\n",
    "    pickle.dump(classifier, f)"
   ]
  },
  {
   "cell_type": "code",
   "execution_count": null,
   "id": "248bc4e0-97cc-4960-a6b8-541c29d962f0",
   "metadata": {},
   "outputs": [],
   "source": [
    "accuracy = classifier.score(X_test, y_test) # score for test data"
   ]
  },
  {
   "cell_type": "markdown",
   "id": "d8ca5a20-4d24-467f-a52f-1121b60760f5",
   "metadata": {},
   "source": [
    "Why do we want to train and test on separated data? Because if we train classifier on the same data that we are testing, it will already know the answers so it does not make any sense."
   ]
  },
  {
   "cell_type": "code",
   "execution_count": null,
   "id": "8741bed7-e433-43b3-b545-1e0033440845",
   "metadata": {},
   "outputs": [],
   "source": [
    "print(f'{accuracy * 100:.2f}%')"
   ]
  },
  {
   "cell_type": "code",
   "execution_count": null,
   "id": "052b85ec-d4d0-43cd-ae24-6f7107692094",
   "metadata": {},
   "outputs": [],
   "source": [
    "print(forecast_out)"
   ]
  },
  {
   "cell_type": "markdown",
   "id": "7c8af61a-f6d8-4a32-9510-dd72e0285e26",
   "metadata": {},
   "source": [
    "What if we want to use different algorithm?"
   ]
  },
  {
   "cell_type": "code",
   "execution_count": null,
   "id": "7e4b4ad3-fabe-4db2-9a86-894aa057bfeb",
   "metadata": {},
   "outputs": [],
   "source": [
    "classifier_svm = svm.SVR()\n",
    "classifier_svm.fit(X_train, y_train) # fit for training data\n",
    "accuracy_svm = classifier_svm.score(X_test, y_test) # score for test data"
   ]
  },
  {
   "cell_type": "code",
   "execution_count": null,
   "id": "71a8e8d2-9c4e-4298-91c1-85f7464e37e5",
   "metadata": {},
   "outputs": [],
   "source": [
    "print(f'{accuracy_svm * 100:.2f}%')"
   ]
  },
  {
   "cell_type": "markdown",
   "id": "c2242b6c-eb85-4042-bffd-54eb904bfd56",
   "metadata": {},
   "source": [
    "We can use many cpu threads with some algortihms like linear regression for example. n_jobs parameter defines it. It affects the training part a lot, it can speed it up. n_jobs=-1 runs as much threads as our processor can handle."
   ]
  },
  {
   "cell_type": "code",
   "execution_count": null,
   "id": "60a8bc3f-ba6c-45be-8e54-ad66be5400ea",
   "metadata": {},
   "outputs": [],
   "source": [
    "forecast_set = classifier.predict(X_lately) # we can pass single value or an array"
   ]
  },
  {
   "cell_type": "code",
   "execution_count": null,
   "id": "914eff6b-59b3-4653-bbe7-1008a536e2e3",
   "metadata": {},
   "outputs": [],
   "source": [
    "forecast_set"
   ]
  },
  {
   "cell_type": "code",
   "execution_count": null,
   "id": "53986c71-7804-407a-a806-07e55aba8023",
   "metadata": {},
   "outputs": [],
   "source": [
    "style.use('ggplot')"
   ]
  },
  {
   "cell_type": "code",
   "execution_count": null,
   "id": "83de5940-dc0f-44d5-8990-d1c782330880",
   "metadata": {},
   "outputs": [],
   "source": [
    "df['Forecast'] = np.nan"
   ]
  },
  {
   "cell_type": "code",
   "execution_count": null,
   "id": "86b89fc8-0cc8-4478-9b3e-111254257de1",
   "metadata": {},
   "outputs": [],
   "source": [
    "last_date = df.iloc[-1].name # because date is in our name (index)"
   ]
  },
  {
   "cell_type": "code",
   "execution_count": null,
   "id": "3cbffb85-bc95-4709-83e0-4e94ae74e380",
   "metadata": {},
   "outputs": [],
   "source": [
    "last_unix = last_date.timestamp() # in unix-style time"
   ]
  },
  {
   "cell_type": "code",
   "execution_count": null,
   "id": "8f113a4b-702f-4f34-b003-40d88f80fcb7",
   "metadata": {},
   "outputs": [],
   "source": [
    "one_day = 86400"
   ]
  },
  {
   "cell_type": "code",
   "execution_count": null,
   "id": "7427b5e0-11c6-4136-ab3a-0666a090e5f1",
   "metadata": {},
   "outputs": [],
   "source": [
    "next_unix = last_unix + one_day"
   ]
  },
  {
   "cell_type": "code",
   "execution_count": null,
   "id": "d7b7107b-a65f-4d2c-9f15-dade55a8db96",
   "metadata": {},
   "outputs": [],
   "source": [
    "for i in forecast_set:\n",
    "    next_date = datetime.datetime.fromtimestamp(next_unix)\n",
    "    next_unix += one_day\n",
    "    df.loc[next_date] = [np.nan for _ in range(len(df.columns)-1)] + [i]"
   ]
  },
  {
   "cell_type": "code",
   "execution_count": null,
   "id": "14e93ad8-b71a-40a3-8ad4-e87a31073cf1",
   "metadata": {},
   "outputs": [],
   "source": [
    "df[['Adj. Close', 'Forecast']].plot(figsize=(12, 8))"
   ]
  },
  {
   "cell_type": "markdown",
   "id": "dac98e31-904d-4203-9ff0-faa51b7d11fb",
   "metadata": {},
   "source": [
    "**Pickling and Scaling**"
   ]
  },
  {
   "cell_type": "markdown",
   "id": "78e812ff-1ae1-445f-bc35-1eb1e76a25bb",
   "metadata": {},
   "source": [
    "Pickle is serialzation of any python object like dict or classifier. We use it to save a classifier to avoid training step."
   ]
  },
  {
   "cell_type": "code",
   "execution_count": null,
   "id": "e8b32426-b6b0-4313-ac3b-9083c775eac0",
   "metadata": {},
   "outputs": [],
   "source": [
    "pickle_in = open('linearregression.pickle','rb')"
   ]
  },
  {
   "cell_type": "code",
   "execution_count": null,
   "id": "796a8f78-23dd-4296-b33a-fa541651f7d2",
   "metadata": {},
   "outputs": [],
   "source": [
    "clf = pickle.load(pickle_in)"
   ]
  },
  {
   "cell_type": "code",
   "execution_count": null,
   "id": "1b50f610-cbe2-4565-b177-eab211602390",
   "metadata": {},
   "outputs": [],
   "source": [
    "clf.score(X_test, y_test) # still works"
   ]
  },
  {
   "cell_type": "markdown",
   "id": "79fdf59f-39fd-4037-8b2a-dff398df17a1",
   "metadata": {},
   "source": [
    "**Writing linear regression algorithm**"
   ]
  },
  {
   "cell_type": "markdown",
   "id": "b1c69041-d40b-48a1-9b16-8fce797ad49c",
   "metadata": {},
   "source": [
    "Linear regression needs to have relationship between y and x axis, if there is no clear relation ship between them, it will be hard to find the best fit line between them, so linear regression will not be very beneficial there. For example if both y and x values are getting higher with each data point, we can clearly see that there is relationship between them.\n",
    "\n",
    "y = mx + b, we usually have x values so we can plug it right in, but we do not have m or b values. Whate are they?\n",
    "\n",
    "m = slope of the line, b = y intercept                           \n",
    "\n",
    "m = (mean(x) * mean(y) - mean(xy)) / (mean(x)^2 - mean(x^2))\n",
    "b = mean(y) - m*mean(x)\n",
    "\n",
    "y = (mean(x) * mean(y) - mean(xy)) / (mean(x)^2 - mean(x^2)) * x + mean(y) - m*mean(x)\n",
    "\n",
    "It works on 2d data."
   ]
  },
  {
   "cell_type": "code",
   "execution_count": null,
   "id": "1cd8275a-bea9-4374-bca5-f2acf5d71a1b",
   "metadata": {},
   "outputs": [],
   "source": []
  }
 ],
 "metadata": {
  "kernelspec": {
   "display_name": "Python 3 (ipykernel)",
   "language": "python",
   "name": "python3"
  },
  "language_info": {
   "codemirror_mode": {
    "name": "ipython",
    "version": 3
   },
   "file_extension": ".py",
   "mimetype": "text/x-python",
   "name": "python",
   "nbconvert_exporter": "python",
   "pygments_lexer": "ipython3",
   "version": "3.10.0"
  }
 },
 "nbformat": 4,
 "nbformat_minor": 5
}

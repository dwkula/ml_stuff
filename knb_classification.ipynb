{
 "cells": [
  {
   "cell_type": "code",
   "execution_count": 1,
   "id": "8ef624db-c217-4eb1-b0a5-edc56b9ce5b2",
   "metadata": {},
   "outputs": [],
   "source": [
    "import pandas as pd\n",
    "import quandl, math, datetime\n",
    "import numpy as np\n",
    "from sklearn import preprocessing, model_selection, neighbors\n",
    "import matplotlib.pyplot as plt\n",
    "from matplotlib import style\n",
    "import pickle"
   ]
  },
  {
   "cell_type": "markdown",
   "id": "ca6bf918-4fec-495b-b368-f457a37439ac",
   "metadata": {},
   "source": [
    "With classification the goal is to create a model that best divides or seperates our data."
   ]
  },
  {
   "cell_type": "markdown",
   "id": "65279824-a9fc-4c4b-8ee2-3157abe92d91",
   "metadata": {},
   "source": [
    "Nearest neighbours is one of the classification algorithms and it is based on the proximity of data points. We are checking who is closest based on proximity of the data and by that we assign it to a group. K-Nearest, the k is the number of neighbours that we are checking. If the point that we want to classify is positioned between two points from different groups it is hard to decide to which group this point belongs to. That is why it is important to use K values that are odd ex. 3, 5, 7. Because if the re is 2 points from group y against 1 point from group x, there is higher chance that the point 'b' belongs to group y, because it is closer to these 2 points of group y."
   ]
  },
  {
   "cell_type": "markdown",
   "id": "478903ed-db15-41c6-990e-30837973e682",
   "metadata": {},
   "source": [
    "To measure the distances we use euclidian distance which means that the bigger a dataset is, the worse our alogrithm works."
   ]
  },
  {
   "cell_type": "code",
   "execution_count": 2,
   "id": "87585c8f-91e7-4138-a56e-2e6b917ada4e",
   "metadata": {},
   "outputs": [],
   "source": [
    "df = pd.read_csv('./data/breast-cancer-wisconsin.data', names=['id', 'clump_thickness', 'unif_cell_size','unif_cell_shape','marg_adhesion','single_epith_cell_size','bare_nuclei','bland_chrom','norm_nucleoli','mistoses','class'])"
   ]
  },
  {
   "cell_type": "code",
   "execution_count": 3,
   "id": "0bb1aa40-0a36-4445-9649-bd604444b407",
   "metadata": {},
   "outputs": [
    {
     "data": {
      "text/html": [
       "<div>\n",
       "<style scoped>\n",
       "    .dataframe tbody tr th:only-of-type {\n",
       "        vertical-align: middle;\n",
       "    }\n",
       "\n",
       "    .dataframe tbody tr th {\n",
       "        vertical-align: top;\n",
       "    }\n",
       "\n",
       "    .dataframe thead th {\n",
       "        text-align: right;\n",
       "    }\n",
       "</style>\n",
       "<table border=\"1\" class=\"dataframe\">\n",
       "  <thead>\n",
       "    <tr style=\"text-align: right;\">\n",
       "      <th></th>\n",
       "      <th>id</th>\n",
       "      <th>clump_thickness</th>\n",
       "      <th>unif_cell_size</th>\n",
       "      <th>unif_cell_shape</th>\n",
       "      <th>marg_adhesion</th>\n",
       "      <th>single_epith_cell_size</th>\n",
       "      <th>bare_nuclei</th>\n",
       "      <th>bland_chrom</th>\n",
       "      <th>norm_nucleoli</th>\n",
       "      <th>mistoses</th>\n",
       "      <th>class</th>\n",
       "    </tr>\n",
       "  </thead>\n",
       "  <tbody>\n",
       "    <tr>\n",
       "      <th>0</th>\n",
       "      <td>1000025</td>\n",
       "      <td>5</td>\n",
       "      <td>1</td>\n",
       "      <td>1</td>\n",
       "      <td>1</td>\n",
       "      <td>2</td>\n",
       "      <td>1</td>\n",
       "      <td>3</td>\n",
       "      <td>1</td>\n",
       "      <td>1</td>\n",
       "      <td>2</td>\n",
       "    </tr>\n",
       "    <tr>\n",
       "      <th>1</th>\n",
       "      <td>1002945</td>\n",
       "      <td>5</td>\n",
       "      <td>4</td>\n",
       "      <td>4</td>\n",
       "      <td>5</td>\n",
       "      <td>7</td>\n",
       "      <td>10</td>\n",
       "      <td>3</td>\n",
       "      <td>2</td>\n",
       "      <td>1</td>\n",
       "      <td>2</td>\n",
       "    </tr>\n",
       "    <tr>\n",
       "      <th>2</th>\n",
       "      <td>1015425</td>\n",
       "      <td>3</td>\n",
       "      <td>1</td>\n",
       "      <td>1</td>\n",
       "      <td>1</td>\n",
       "      <td>2</td>\n",
       "      <td>2</td>\n",
       "      <td>3</td>\n",
       "      <td>1</td>\n",
       "      <td>1</td>\n",
       "      <td>2</td>\n",
       "    </tr>\n",
       "    <tr>\n",
       "      <th>3</th>\n",
       "      <td>1016277</td>\n",
       "      <td>6</td>\n",
       "      <td>8</td>\n",
       "      <td>8</td>\n",
       "      <td>1</td>\n",
       "      <td>3</td>\n",
       "      <td>4</td>\n",
       "      <td>3</td>\n",
       "      <td>7</td>\n",
       "      <td>1</td>\n",
       "      <td>2</td>\n",
       "    </tr>\n",
       "    <tr>\n",
       "      <th>4</th>\n",
       "      <td>1017023</td>\n",
       "      <td>4</td>\n",
       "      <td>1</td>\n",
       "      <td>1</td>\n",
       "      <td>3</td>\n",
       "      <td>2</td>\n",
       "      <td>1</td>\n",
       "      <td>3</td>\n",
       "      <td>1</td>\n",
       "      <td>1</td>\n",
       "      <td>2</td>\n",
       "    </tr>\n",
       "  </tbody>\n",
       "</table>\n",
       "</div>"
      ],
      "text/plain": [
       "        id  clump_thickness  unif_cell_size  unif_cell_shape  marg_adhesion  \\\n",
       "0  1000025                5               1                1              1   \n",
       "1  1002945                5               4                4              5   \n",
       "2  1015425                3               1                1              1   \n",
       "3  1016277                6               8                8              1   \n",
       "4  1017023                4               1                1              3   \n",
       "\n",
       "   single_epith_cell_size bare_nuclei  bland_chrom  norm_nucleoli  mistoses  \\\n",
       "0                       2           1            3              1         1   \n",
       "1                       7          10            3              2         1   \n",
       "2                       2           2            3              1         1   \n",
       "3                       3           4            3              7         1   \n",
       "4                       2           1            3              1         1   \n",
       "\n",
       "   class  \n",
       "0      2  \n",
       "1      2  \n",
       "2      2  \n",
       "3      2  \n",
       "4      2  "
      ]
     },
     "execution_count": 3,
     "metadata": {},
     "output_type": "execute_result"
    }
   ],
   "source": [
    "df.head()"
   ]
  },
  {
   "cell_type": "code",
   "execution_count": 4,
   "id": "7ed9e755-2f41-4a9a-932c-f973cfe01088",
   "metadata": {},
   "outputs": [
    {
     "data": {
      "text/plain": [
       "id                        False\n",
       "clump_thickness           False\n",
       "unif_cell_size            False\n",
       "unif_cell_shape           False\n",
       "marg_adhesion             False\n",
       "single_epith_cell_size    False\n",
       "bare_nuclei                True\n",
       "bland_chrom               False\n",
       "norm_nucleoli             False\n",
       "mistoses                  False\n",
       "class                     False\n",
       "dtype: bool"
      ]
     },
     "execution_count": 4,
     "metadata": {},
     "output_type": "execute_result"
    }
   ],
   "source": [
    "df.isin(['?']).any()"
   ]
  },
  {
   "cell_type": "code",
   "execution_count": 5,
   "id": "38d358ea-d513-4a04-b1f8-683901707b93",
   "metadata": {},
   "outputs": [],
   "source": [
    "df.replace('?', -99999, inplace=True)"
   ]
  },
  {
   "cell_type": "code",
   "execution_count": 6,
   "id": "0fb25bca-d57a-48cf-97b0-3bcec3ad6481",
   "metadata": {},
   "outputs": [],
   "source": [
    "df.drop('id', axis=1, inplace=True) # id column is not needed as feature for our algorithms and it may cause harm to performance especially\n",
    "# for k -nearest neighb"
   ]
  },
  {
   "cell_type": "code",
   "execution_count": 7,
   "id": "2f1672f5-b1ae-4323-89cb-be5acef7bfb7",
   "metadata": {},
   "outputs": [],
   "source": [
    "X = np.array(df.drop('class', axis=1))"
   ]
  },
  {
   "cell_type": "code",
   "execution_count": 8,
   "id": "0155079c-83f9-4420-add5-8d5c75b25766",
   "metadata": {},
   "outputs": [],
   "source": [
    "y = np.array(df['class'])"
   ]
  },
  {
   "cell_type": "code",
   "execution_count": 9,
   "id": "a8c72419-3336-4e71-b235-a16924d8d6d4",
   "metadata": {},
   "outputs": [],
   "source": [
    "X_train, X_test, y_train, y_test = model_selection.train_test_split(X, y, test_size=0.2)"
   ]
  },
  {
   "cell_type": "code",
   "execution_count": 10,
   "id": "af8143ea-d272-4998-8212-feb2f55127c6",
   "metadata": {},
   "outputs": [
    {
     "data": {
      "text/plain": [
       "KNeighborsClassifier()"
      ]
     },
     "execution_count": 10,
     "metadata": {},
     "output_type": "execute_result"
    }
   ],
   "source": [
    "clf = neighbors.KNeighborsClassifier()\n",
    "clf.fit(X_train, y_train)"
   ]
  },
  {
   "cell_type": "code",
   "execution_count": 11,
   "id": "14f4db79-e816-4c48-8840-bc8e56a35145",
   "metadata": {},
   "outputs": [],
   "source": [
    "accuracy = clf.score(X_test, y_test)"
   ]
  },
  {
   "cell_type": "code",
   "execution_count": 12,
   "id": "8aaca3f0-8d4c-4d0b-bbd6-50a3f75b0794",
   "metadata": {},
   "outputs": [
    {
     "data": {
      "text/plain": [
       "0.9357142857142857"
      ]
     },
     "execution_count": 12,
     "metadata": {},
     "output_type": "execute_result"
    }
   ],
   "source": [
    "accuracy"
   ]
  },
  {
   "cell_type": "code",
   "execution_count": 13,
   "id": "9d6bd85f-044f-4fa0-a406-01ddb66006e2",
   "metadata": {},
   "outputs": [],
   "source": [
    "with open('knearest.pickle', 'wb') as f:\n",
    "    pickle.dump(clf, f)"
   ]
  },
  {
   "cell_type": "code",
   "execution_count": 38,
   "id": "15f08ba6-a72b-4a9a-b7e1-e2cdc0dcf9ce",
   "metadata": {},
   "outputs": [],
   "source": [
    "example_measure = np.array([[4, 2, 1, 1, 1, 2, 3, 2, 1],[9, 2, 1, 1, 6, 2, 3, 2, 1]])"
   ]
  },
  {
   "cell_type": "code",
   "execution_count": 39,
   "id": "0bb7be92-1d1a-42f5-a14e-220a3f6c25a5",
   "metadata": {},
   "outputs": [],
   "source": [
    "predict = clf.predict(example_measure)"
   ]
  },
  {
   "cell_type": "code",
   "execution_count": 40,
   "id": "f041faef-dc08-47ab-b4a8-fedc9d4e8678",
   "metadata": {},
   "outputs": [
    {
     "data": {
      "text/plain": [
       "array([2, 4], dtype=int64)"
      ]
     },
     "execution_count": 40,
     "metadata": {},
     "output_type": "execute_result"
    }
   ],
   "source": [
    "predict"
   ]
  },
  {
   "cell_type": "markdown",
   "id": "cd523470-6d18-4c58-899d-cf96265d8293",
   "metadata": {},
   "source": [
    "The equation for euclidean distance is"
   ]
  },
  {
   "cell_type": "markdown",
   "id": "2617c6f9-ca6e-4b29-9528-3f1e968d081d",
   "metadata": {},
   "source": [
    "$$ d\\left( p,q\\right)   = \\sqrt {\\sum _{i=1}^{n}  \\left( q_{i}-p_{i}\\right)^2 }  $$"
   ]
  },
  {
   "cell_type": "markdown",
   "id": "0a2fbf03-067b-4565-95e7-faa1f2090d19",
   "metadata": {},
   "source": [
    "Where i - dimensions, n - number of points, q - point, p - another point"
   ]
  },
  {
   "cell_type": "code",
   "execution_count": null,
   "id": "5db6c58b-cf11-4edb-b4fa-493e76f788af",
   "metadata": {},
   "outputs": [],
   "source": []
  }
 ],
 "metadata": {
  "kernelspec": {
   "display_name": "Python 3 (ipykernel)",
   "language": "python",
   "name": "python3"
  },
  "language_info": {
   "codemirror_mode": {
    "name": "ipython",
    "version": 3
   },
   "file_extension": ".py",
   "mimetype": "text/x-python",
   "name": "python",
   "nbconvert_exporter": "python",
   "pygments_lexer": "ipython3",
   "version": "3.10.0"
  }
 },
 "nbformat": 4,
 "nbformat_minor": 5
}
